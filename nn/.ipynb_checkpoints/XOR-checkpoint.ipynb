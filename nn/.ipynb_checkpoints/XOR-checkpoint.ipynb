{
 "cells": [
  {
   "cell_type": "markdown",
   "id": "84b903fa",
   "metadata": {},
   "source": [
    "# Solving XOR Problem w/ Neural Networks"
   ]
  },
  {
   "cell_type": "markdown",
   "id": "e19c3693",
   "metadata": {},
   "source": [
    "### Imports"
   ]
  },
  {
   "cell_type": "code",
   "execution_count": 1,
   "id": "fdb2c29a",
   "metadata": {},
   "outputs": [],
   "source": [
    "import numpy as np"
   ]
  },
  {
   "cell_type": "markdown",
   "id": "bdc2136a",
   "metadata": {},
   "source": [
    "### Inputs/Outputs"
   ]
  },
  {
   "cell_type": "code",
   "execution_count": 2,
   "id": "539a9298",
   "metadata": {},
   "outputs": [],
   "source": [
    "x = np.array([[0, 0], [0, 1], [1, 0], [1, 1]])\n",
    "y = np.array([[0], [1], [1], [0]])\n",
    "\n",
    "n_x, n_h, n_y = 2, 2, 1"
   ]
  },
  {
   "cell_type": "markdown",
   "id": "a43d6997",
   "metadata": {},
   "source": [
    "### Init Weights"
   ]
  },
  {
   "cell_type": "code",
   "execution_count": 3,
   "id": "215adaef",
   "metadata": {},
   "outputs": [],
   "source": [
    "np.random.seed(2)\n",
    "w1 = np.random.uniform(size=(n_x, n_h))\n",
    "w2 = np.random.uniform(size=(n_h, n_y))"
   ]
  },
  {
   "cell_type": "markdown",
   "id": "1350e83e",
   "metadata": {},
   "source": [
    "### Sigmoid Function"
   ]
  },
  {
   "cell_type": "code",
   "execution_count": 4,
   "id": "f1455c2f",
   "metadata": {},
   "outputs": [],
   "source": [
    "def sigmoid(x):\n",
    "    return 1/(1+np.exp(-x))"
   ]
  },
  {
   "cell_type": "markdown",
   "id": "2cf00774",
   "metadata": {},
   "source": [
    "### Sigmoid Function Derivative"
   ]
  },
  {
   "cell_type": "code",
   "execution_count": 5,
   "id": "7b123a2b",
   "metadata": {},
   "outputs": [],
   "source": [
    "def d_sigmoid(x):\n",
    "    return x*(1-x)"
   ]
  },
  {
   "cell_type": "markdown",
   "id": "ab3d8df5",
   "metadata": {},
   "source": [
    "### Forward Propagation"
   ]
  },
  {
   "cell_type": "code",
   "execution_count": 6,
   "id": "b7880326",
   "metadata": {},
   "outputs": [],
   "source": [
    "def forward_prop(w1, w2, x):\n",
    "    z1 = x @ w1\n",
    "    z1 = x.dot(w1)\n",
    "    a1 = sigmoid(z1)\n",
    "    z2 = a1 @ w2\n",
    "    a2 = sigmoid(z2)\n",
    "    return a1, a2"
   ]
  },
  {
   "cell_type": "markdown",
   "id": "c97c4cdd",
   "metadata": {},
   "source": [
    "### Back Propagation"
   ]
  },
  {
   "cell_type": "code",
   "execution_count": 7,
   "id": "f61bac9e",
   "metadata": {},
   "outputs": [],
   "source": [
    "def back_prop(w1, w2, a1, a2, x, y):\n",
    "    r = (y-a2) * d_sigmoid(a2)\n",
    "    dw2 = a1.T @ r\n",
    "    dz1 = r * d_sigmoid(a1) * w2.T\n",
    "    dw1 = x.T @ dz1\n",
    "    return dw1, dw2"
   ]
  },
  {
   "cell_type": "markdown",
   "id": "9f876c50",
   "metadata": {},
   "source": [
    "### Solving XOR"
   ]
  },
  {
   "cell_type": "code",
   "execution_count": 8,
   "id": "6e8a1540",
   "metadata": {
    "scrolled": true
   },
   "outputs": [],
   "source": [
    "lr = 0.1\n",
    "epoch = 100000\n",
    "for _ in range(epoch):\n",
    "    a1, a2 = forward_prop(w1, w2, x)\n",
    "\n",
    "    dw1, dw2 = back_prop(w1, w2, a1, a2, x, y)\n",
    "\n",
    "    w2 += lr*dw2\n",
    "    w1 += lr*dw1"
   ]
  },
  {
   "cell_type": "markdown",
   "id": "4209c3ef",
   "metadata": {},
   "source": [
    "### Test"
   ]
  },
  {
   "cell_type": "code",
   "execution_count": 9,
   "id": "e71839d1",
   "metadata": {
    "scrolled": true
   },
   "outputs": [
    {
     "name": "stdout",
     "output_type": "stream",
     "text": [
      "[0] [0.0327808]\n",
      "[1] [0.93080349]\n",
      "[1] [0.93080356]\n",
      "[0] [0.09227007]\n"
     ]
    }
   ],
   "source": [
    "for i in range(4):\n",
    "    print(y[i], a2[i])"
   ]
  },
  {
   "cell_type": "code",
   "execution_count": null,
   "id": "9d5d933f",
   "metadata": {},
   "outputs": [],
   "source": []
  },
  {
   "cell_type": "code",
   "execution_count": null,
   "id": "2a1b45ab",
   "metadata": {},
   "outputs": [],
   "source": []
  }
 ],
 "metadata": {
  "kernelspec": {
   "display_name": "Python 3 (ipykernel)",
   "language": "python",
   "name": "python3"
  },
  "language_info": {
   "codemirror_mode": {
    "name": "ipython",
    "version": 3
   },
   "file_extension": ".py",
   "mimetype": "text/x-python",
   "name": "python",
   "nbconvert_exporter": "python",
   "pygments_lexer": "ipython3",
   "version": "3.9.7"
  }
 },
 "nbformat": 4,
 "nbformat_minor": 5
}
