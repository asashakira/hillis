{
 "cells": [
  {
   "cell_type": "code",
   "execution_count": 1,
   "id": "5e02dd34",
   "metadata": {},
   "outputs": [],
   "source": [
    "filename = \"1_09\""
   ]
  },
  {
   "cell_type": "code",
   "execution_count": 2,
   "id": "48df951f",
   "metadata": {},
   "outputs": [],
   "source": [
    "INF = 1001001001\n",
    "\n",
    "MAX_GEN = 100\n",
    "POP_SIZE = 10\n",
    "MAX_MATING = POP_SIZE//2"
   ]
  },
  {
   "cell_type": "markdown",
   "id": "e28e0280",
   "metadata": {},
   "source": [
    "### Import numpy"
   ]
  },
  {
   "cell_type": "code",
   "execution_count": 3,
   "id": "3c959c2c",
   "metadata": {},
   "outputs": [],
   "source": [
    "import numpy as np"
   ]
  },
  {
   "cell_type": "markdown",
   "id": "56423a20",
   "metadata": {},
   "source": [
    "### Read File"
   ]
  },
  {
   "cell_type": "code",
   "execution_count": 4,
   "id": "7f958051",
   "metadata": {
    "scrolled": true
   },
   "outputs": [],
   "source": [
    "W = []\n",
    "V = []\n",
    "with open('in/'+filename) as f:\n",
    "    N, M = map(int, f.readline().split())\n",
    "    for i in range(N):\n",
    "        w, v = map(int, f.readline().split())\n",
    "        W.append(w)\n",
    "        V.append(v)\n",
    "weights = np.array(W)\n",
    "values = np.array(V)"
   ]
  },
  {
   "cell_type": "code",
   "execution_count": 5,
   "id": "5cc7f72b",
   "metadata": {},
   "outputs": [
    {
     "name": "stdout",
     "output_type": "stream",
     "text": [
      "100 99768\n",
      "3348 931925303\n",
      "436 800007120\n",
      "529 828450157\n",
      "135 248140652\n",
      "390 618381599\n",
      "56 37617437\n",
      "703 447352520\n",
      "859 487024775\n",
      "1376 132600871\n",
      "29 53316759\n",
      "1161 213076544\n",
      "443 225485449\n",
      "802 207699345\n",
      "947 585368713\n",
      "957 875816045\n",
      "997 264460388\n",
      "1365 265410814\n",
      "136 48146248\n",
      "168 346311449\n",
      "1216 411213416\n",
      "65 72126789\n",
      "3518 485735874\n",
      "335 292901138\n",
      "369 838632857\n",
      "265 72096372\n",
      "94 722419238\n",
      "1371 675867985\n",
      "896 415928482\n",
      "654 987550612\n",
      "43 338807667\n",
      "1296 757532225\n",
      "1125 81846483\n",
      "879 266839319\n",
      "412 851493895\n",
      "619 242325626\n",
      "194 77865145\n",
      "137 204227694\n",
      "364 407850182\n",
      "335 849491368\n",
      "1477 894360153\n",
      "542 537420983\n",
      "6 211677923\n",
      "785 919035274\n",
      "549 142564104\n",
      "345 278940308\n",
      "460 494481486\n",
      "2904 342894870\n",
      "306 280236778\n",
      "258 829575959\n",
      "1936 292766138\n"
     ]
    }
   ],
   "source": [
    "print(N, M)\n",
    "for i in range(N//2):\n",
    "    print(weights[i], values[i])"
   ]
  },
  {
   "cell_type": "markdown",
   "id": "298f206c",
   "metadata": {},
   "source": [
    "### Initialize Population"
   ]
  },
  {
   "cell_type": "code",
   "execution_count": 6,
   "id": "b767a671",
   "metadata": {
    "scrolled": true
   },
   "outputs": [
    {
     "name": "stdout",
     "output_type": "stream",
     "text": [
      "[[1 0 0 0 0 0 0 0 0 0 0 0 0 0 0 0 0 0 0 0 0 0 0 0 0 0 0 0 0 0 0 0 0 0 0 0\n",
      "  0 0 0 0 0 0 0 0 0 0 0 0 0 0 0 0 0 0 0 0 0 0 0 0 0 0 0 0 0 0 0 0 0 0 0 0\n",
      "  0 0 0 0 0 0 0 0 0 0 0 0 0 0 0 0 0 0 0 0 0 0 0 0 0 0 0 0]\n",
      " [1 1 0 1 0 1 1 1 0 1 1 1 1 0 0 0 1 1 1 1 1 0 0 1 0 0 0 1 1 1 0 0 1 1 1 1\n",
      "  0 0 1 0 0 0 1 1 0 1 1 0 0 0 1 0 1 1 0 0 1 1 0 1 1 0 0 0 0 0 1 1 0 0 0 1\n",
      "  1 1 1 1 1 1 0 1 0 0 0 1 1 1 0 0 1 0 0 1 1 0 1 0 1 1 0 1]\n",
      " [1 1 1 0 1 0 0 0 0 1 0 0 0 1 0 0 1 0 0 1 1 1 0 0 1 0 0 0 0 0 1 0 1 1 0 0\n",
      "  1 0 0 0 1 0 1 0 0 1 1 1 1 0 0 1 0 1 0 0 1 0 1 0 0 0 0 1 1 0 0 0 0 0 0 0\n",
      "  0 0 1 1 1 0 0 0 1 0 0 0 1 0 1 0 1 1 0 0 1 0 0 1 0 1 1 0]\n",
      " [1 0 1 1 1 1 1 0 1 0 1 0 0 1 1 1 1 0 1 0 1 0 1 1 0 0 0 1 0 0 0 0 0 0 1 1\n",
      "  0 0 1 1 0 1 0 1 0 1 1 0 1 1 1 1 1 0 1 1 1 1 1 0 1 1 0 1 1 1 1 1 1 0 0 0\n",
      "  1 1 0 0 1 1 1 0 0 0 0 0 1 1 0 1 0 1 1 0 1 1 0 1 1 1 0 1]\n",
      " [0 1 0 0 1 1 1 1 1 0 1 1 1 1 1 1 0 1 0 0 1 1 1 0 0 0 0 0 1 1 1 1 1 1 1 1\n",
      "  0 0 0 0 0 0 0 1 1 0 0 1 1 0 0 1 1 0 1 0 0 0 1 1 1 0 1 1 0 1 0 1 1 1 1 0\n",
      "  0 0 1 1 1 1 1 0 0 0 0 0 1 0 0 1 0 1 1 1 1 0 1 1 0 1 0 0]\n",
      " [0 1 1 0 1 1 0 1 1 1 1 1 1 0 0 0 0 0 0 0 1 1 0 0 1 0 0 1 1 1 0 1 1 1 0 1\n",
      "  0 0 0 1 0 1 1 1 1 1 1 1 0 1 1 1 1 0 1 0 1 0 1 1 0 1 0 0 1 1 1 0 1 0 1 1\n",
      "  1 1 0 1 1 0 1 1 1 0 1 1 1 1 0 0 1 1 1 0 1 1 1 0 1 1 0 1]\n",
      " [0 1 1 1 1 0 1 0 0 1 0 0 0 1 0 0 0 1 1 0 0 0 1 0 1 0 1 0 0 0 0 1 1 0 1 0\n",
      "  1 1 0 1 0 0 0 0 0 1 0 0 1 0 0 1 1 0 1 0 0 0 0 1 1 0 1 0 0 0 1 0 0 1 0 1\n",
      "  1 0 1 0 0 0 1 0 1 1 0 1 0 0 1 0 0 1 1 1 1 1 0 0 1 1 1 1]\n",
      " [0 0 0 0 1 0 0 0 0 1 1 1 1 0 1 1 1 0 0 0 0 1 0 0 0 1 0 1 0 0 1 1 1 0 1 1\n",
      "  0 0 1 0 1 0 1 0 1 1 1 1 1 1 0 0 1 0 1 0 0 0 0 1 0 0 0 1 1 0 0 1 1 1 1 0\n",
      "  1 1 0 0 1 1 1 0 1 0 0 0 0 1 1 1 0 0 1 1 1 1 0 0 1 0 1 0]\n",
      " [0 1 0 0 1 0 1 0 0 0 0 0 1 0 0 1 0 1 1 1 1 0 1 1 1 1 1 1 1 1 1 1 0 0 1 0\n",
      "  1 0 0 1 0 1 1 1 1 1 1 0 1 1 1 0 1 0 0 0 0 0 0 1 1 1 0 0 0 0 1 1 1 0 1 1\n",
      "  0 1 0 0 1 1 1 0 1 1 0 0 0 1 0 0 1 0 1 0 1 0 0 1 1 1 1 1]\n",
      " [1 0 0 0 0 0 1 0 0 1 0 0 1 0 0 1 1 1 0 1 1 0 0 0 1 1 0 0 1 0 0 0 0 1 0 1\n",
      "  1 1 0 0 1 0 0 1 1 0 0 1 1 0 1 0 0 0 0 0 1 0 0 1 1 1 0 0 0 0 1 1 1 1 0 1\n",
      "  1 0 1 0 1 1 1 0 1 0 0 1 0 1 0 0 1 1 1 1 0 0 1 1 1 0 0 0]]\n"
     ]
    }
   ],
   "source": [
    "def init():\n",
    "    pop = np.random.randint(2, size=(POP_SIZE, N))\n",
    "    pop[0] = [0 for _ in range(N)]\n",
    "    pop[0][0] = 1\n",
    "    return pop\n",
    "pop = init()\n",
    "print(pop)"
   ]
  },
  {
   "cell_type": "markdown",
   "id": "2bb6d9d2",
   "metadata": {},
   "source": [
    "### Fitness"
   ]
  },
  {
   "cell_type": "code",
   "execution_count": 7,
   "id": "c1997dce",
   "metadata": {},
   "outputs": [],
   "source": [
    "def calc_fit(weights, values, pop):\n",
    "    fitness = []\n",
    "    for i in range(POP_SIZE):\n",
    "        w, v = 0, 0\n",
    "        for j in range(N):\n",
    "            if pop[i][j] == 1:\n",
    "                w += weights[j]\n",
    "                v += values[j]\n",
    "        fitness.append(0 if w > M else v)\n",
    "    return np.array(fitness)"
   ]
  },
  {
   "cell_type": "code",
   "execution_count": 8,
   "id": "6c95813d",
   "metadata": {},
   "outputs": [
    {
     "name": "stdout",
     "output_type": "stream",
     "text": [
      "[  931925303 25194406884 20768952329 30545850531 25235264792 28350720236\n",
      " 20979445923 23574213189 26328967822 21616410270]\n"
     ]
    }
   ],
   "source": [
    "fitness = calc_fit(weights, values, pop)\n",
    "print(fitness)"
   ]
  },
  {
   "cell_type": "markdown",
   "id": "7c5feb89",
   "metadata": {},
   "source": [
    "### Selection"
   ]
  },
  {
   "cell_type": "code",
   "execution_count": 9,
   "id": "8d05eb8f",
   "metadata": {},
   "outputs": [
    {
     "data": {
      "text/plain": [
       "array([[1, 0, 1, 1, 1, 1, 1, 0, 1, 0, 1, 0, 0, 1, 1, 1, 1, 0, 1, 0, 1, 0,\n",
       "        1, 1, 0, 0, 0, 1, 0, 0, 0, 0, 0, 0, 1, 1, 0, 0, 1, 1, 0, 1, 0, 1,\n",
       "        0, 1, 1, 0, 1, 1, 1, 1, 1, 0, 1, 1, 1, 1, 1, 0, 1, 1, 0, 1, 1, 1,\n",
       "        1, 1, 1, 0, 0, 0, 1, 1, 0, 0, 1, 1, 1, 0, 0, 0, 0, 0, 1, 1, 0, 1,\n",
       "        0, 1, 1, 0, 1, 1, 0, 1, 1, 1, 0, 1],\n",
       "       [0, 1, 1, 0, 1, 1, 0, 1, 1, 1, 1, 1, 1, 0, 0, 0, 0, 0, 0, 0, 1, 1,\n",
       "        0, 0, 1, 0, 0, 1, 1, 1, 0, 1, 1, 1, 0, 1, 0, 0, 0, 1, 0, 1, 1, 1,\n",
       "        1, 1, 1, 1, 0, 1, 1, 1, 1, 0, 1, 0, 1, 0, 1, 1, 0, 1, 0, 0, 1, 1,\n",
       "        1, 0, 1, 0, 1, 1, 1, 1, 0, 1, 1, 0, 1, 1, 1, 0, 1, 1, 1, 1, 0, 0,\n",
       "        1, 1, 1, 0, 1, 1, 1, 0, 1, 1, 0, 1],\n",
       "       [0, 1, 0, 0, 1, 0, 1, 0, 0, 0, 0, 0, 1, 0, 0, 1, 0, 1, 1, 1, 1, 0,\n",
       "        1, 1, 1, 1, 1, 1, 1, 1, 1, 1, 0, 0, 1, 0, 1, 0, 0, 1, 0, 1, 1, 1,\n",
       "        1, 1, 1, 0, 1, 1, 1, 0, 1, 0, 0, 0, 0, 0, 0, 1, 1, 1, 0, 0, 0, 0,\n",
       "        1, 1, 1, 0, 1, 1, 0, 1, 0, 0, 1, 1, 1, 0, 1, 1, 0, 0, 0, 1, 0, 0,\n",
       "        1, 0, 1, 0, 1, 0, 0, 1, 1, 1, 1, 1],\n",
       "       [0, 1, 0, 0, 1, 1, 1, 1, 1, 0, 1, 1, 1, 1, 1, 1, 0, 1, 0, 0, 1, 1,\n",
       "        1, 0, 0, 0, 0, 0, 1, 1, 1, 1, 1, 1, 1, 1, 0, 0, 0, 0, 0, 0, 0, 1,\n",
       "        1, 0, 0, 1, 1, 0, 0, 1, 1, 0, 1, 0, 0, 0, 1, 1, 1, 0, 1, 1, 0, 1,\n",
       "        0, 1, 1, 1, 1, 0, 0, 0, 1, 1, 1, 1, 1, 0, 0, 0, 0, 0, 1, 0, 0, 1,\n",
       "        0, 1, 1, 1, 1, 0, 1, 1, 0, 1, 0, 0],\n",
       "       [1, 1, 0, 1, 0, 1, 1, 1, 0, 1, 1, 1, 1, 0, 0, 0, 1, 1, 1, 1, 1, 0,\n",
       "        0, 1, 0, 0, 0, 1, 1, 1, 0, 0, 1, 1, 1, 1, 0, 0, 1, 0, 0, 0, 1, 1,\n",
       "        0, 1, 1, 0, 0, 0, 1, 0, 1, 1, 0, 0, 1, 1, 0, 1, 1, 0, 0, 0, 0, 0,\n",
       "        1, 1, 0, 0, 0, 1, 1, 1, 1, 1, 1, 1, 0, 1, 0, 0, 0, 1, 1, 1, 0, 0,\n",
       "        1, 0, 0, 1, 1, 0, 1, 0, 1, 1, 0, 1]])"
      ]
     },
     "execution_count": 9,
     "metadata": {},
     "output_type": "execute_result"
    }
   ],
   "source": [
    "def selection(pop, fitness, n_parents):\n",
    "    parents = np.empty((n_parents, pop.shape[1]), dtype=int)\n",
    "    for i in range(n_parents):\n",
    "        idx = np.where(fitness == np.max(fitness))[0][0]\n",
    "        parents[i, :] = pop[idx, :]\n",
    "        fitness[idx] = -INF\n",
    "    return parents\n",
    "parents = selection(pop, fitness, MAX_MATING)\n",
    "parents"
   ]
  },
  {
   "cell_type": "markdown",
   "id": "08145d71",
   "metadata": {},
   "source": [
    "### Crossover"
   ]
  },
  {
   "cell_type": "code",
   "execution_count": 10,
   "id": "c59400ea",
   "metadata": {},
   "outputs": [
    {
     "data": {
      "text/plain": [
       "array([[1, 0, 1, 1, 1, 1, 1, 0, 1, 0, 1, 0, 0, 1, 1, 1, 1, 0, 1, 0, 1, 0,\n",
       "        1, 1, 0, 0, 0, 1, 0, 0, 0, 0, 0, 0, 1, 1, 0, 0, 1, 1, 0, 1, 0, 1,\n",
       "        0, 1, 1, 0, 1, 1, 1, 1, 1, 0, 1, 0, 1, 0, 1, 1, 0, 1, 0, 0, 1, 1,\n",
       "        1, 0, 1, 0, 1, 1, 1, 1, 0, 1, 1, 0, 1, 1, 1, 0, 1, 1, 1, 1, 0, 0,\n",
       "        1, 1, 1, 0, 1, 1, 1, 0, 1, 1, 0, 1],\n",
       "       [0, 1, 1, 0, 1, 1, 0, 1, 1, 1, 1, 1, 1, 0, 0, 0, 0, 0, 0, 0, 1, 1,\n",
       "        0, 0, 1, 0, 0, 1, 1, 1, 0, 1, 1, 1, 0, 1, 0, 0, 0, 1, 0, 1, 1, 1,\n",
       "        1, 1, 1, 1, 0, 1, 1, 0, 1, 0, 0, 0, 0, 0, 0, 1, 1, 1, 0, 0, 0, 0,\n",
       "        1, 1, 1, 0, 1, 1, 0, 1, 0, 0, 1, 1, 1, 0, 1, 1, 0, 0, 0, 1, 0, 0,\n",
       "        1, 0, 1, 0, 1, 0, 0, 1, 1, 1, 1, 1],\n",
       "       [0, 1, 0, 0, 1, 0, 1, 0, 0, 0, 0, 0, 1, 0, 0, 1, 0, 1, 1, 1, 1, 0,\n",
       "        1, 1, 1, 1, 1, 1, 1, 1, 1, 1, 0, 0, 1, 0, 1, 0, 0, 1, 0, 1, 1, 1,\n",
       "        1, 1, 1, 0, 1, 1, 0, 1, 1, 0, 1, 0, 0, 0, 1, 1, 1, 0, 1, 1, 0, 1,\n",
       "        0, 1, 1, 1, 1, 0, 0, 0, 1, 1, 1, 1, 1, 0, 0, 0, 0, 0, 1, 0, 0, 1,\n",
       "        0, 1, 1, 1, 1, 0, 1, 1, 0, 1, 0, 0],\n",
       "       [0, 1, 0, 0, 1, 1, 1, 1, 1, 0, 1, 1, 1, 1, 1, 1, 0, 1, 0, 0, 1, 1,\n",
       "        1, 0, 0, 0, 0, 0, 1, 1, 1, 1, 1, 1, 1, 1, 0, 0, 0, 0, 0, 0, 0, 1,\n",
       "        1, 0, 0, 1, 1, 0, 1, 0, 1, 1, 0, 0, 1, 1, 0, 1, 1, 0, 0, 0, 0, 0,\n",
       "        1, 1, 0, 0, 0, 1, 1, 1, 1, 1, 1, 1, 0, 1, 0, 0, 0, 1, 1, 1, 0, 0,\n",
       "        1, 0, 0, 1, 1, 0, 1, 0, 1, 1, 0, 1],\n",
       "       [1, 1, 0, 1, 0, 1, 1, 1, 0, 1, 1, 1, 1, 0, 0, 0, 1, 1, 1, 1, 1, 0,\n",
       "        0, 1, 0, 0, 0, 1, 1, 1, 0, 0, 1, 1, 1, 1, 0, 0, 1, 0, 0, 0, 1, 1,\n",
       "        0, 1, 1, 0, 0, 0, 1, 1, 1, 0, 1, 1, 1, 1, 1, 0, 1, 1, 0, 1, 1, 1,\n",
       "        1, 1, 1, 0, 0, 0, 1, 1, 0, 0, 1, 1, 1, 0, 0, 0, 0, 0, 1, 1, 0, 1,\n",
       "        0, 1, 1, 0, 1, 1, 0, 1, 1, 1, 0, 1]])"
      ]
     },
     "execution_count": 10,
     "metadata": {},
     "output_type": "execute_result"
    }
   ],
   "source": [
    "def crossover(parents, n_offspring):\n",
    "    offspring = np.empty(n_offspring, dtype=int)    \n",
    "    crossover_point = np.uint8(n_offspring[1]/2)\n",
    "    for i in range(n_offspring[0]):\n",
    "        par1_idx = i % parents.shape[0]\n",
    "        par2_idx = (i+1) % parents.shape[0]\n",
    "        offspring[i, 0:crossover_point] = parents[par1_idx, 0:crossover_point]\n",
    "        offspring[i, crossover_point:] = parents[par2_idx, crossover_point:]\n",
    "    return offspring\n",
    "offspring = crossover(parents, n_offspring=(POP_SIZE-parents.shape[0], N))\n",
    "offspring"
   ]
  },
  {
   "cell_type": "markdown",
   "id": "b526401a",
   "metadata": {},
   "source": [
    "### Mutation"
   ]
  },
  {
   "cell_type": "code",
   "execution_count": 11,
   "id": "4a538427",
   "metadata": {},
   "outputs": [
    {
     "data": {
      "text/plain": [
       "array([[1, 0, 1, 1, 1, 1, 1, 0, 1, 0, 1, 0, 0, 1, 1, 1, 1, 0, 1, 0, 1, 0,\n",
       "        1, 1, 0, 0, 0, 1, 0, 0, 0, 0, 0, 0, 1, 1, 0, 0, 1, 1, 0, 1, 0, 1,\n",
       "        0, 1, 1, 0, 1, 1, 1, 1, 1, 0, 1, 0, 1, 0, 1, 1, 0, 1, 0, 0, 1, 1,\n",
       "        1, 0, 0, 0, 1, 1, 1, 1, 0, 1, 1, 0, 1, 1, 1, 0, 1, 1, 1, 1, 0, 0,\n",
       "        1, 1, 1, 0, 1, 1, 1, 0, 1, 1, 0, 1],\n",
       "       [0, 1, 1, 0, 1, 1, 0, 1, 1, 1, 1, 1, 1, 0, 0, 0, 0, 0, 0, 0, 1, 1,\n",
       "        0, 0, 1, 0, 0, 1, 1, 1, 0, 1, 1, 1, 0, 1, 0, 0, 0, 1, 0, 1, 1, 1,\n",
       "        1, 1, 1, 1, 0, 1, 1, 0, 1, 0, 0, 0, 0, 0, 0, 1, 1, 1, 0, 0, 1, 0,\n",
       "        1, 1, 1, 0, 1, 1, 0, 1, 0, 0, 1, 1, 1, 0, 1, 1, 0, 0, 0, 1, 0, 0,\n",
       "        1, 0, 1, 0, 1, 0, 0, 1, 1, 1, 1, 1],\n",
       "       [0, 1, 0, 0, 1, 0, 1, 0, 0, 0, 0, 0, 1, 0, 0, 1, 0, 1, 1, 1, 1, 0,\n",
       "        1, 1, 1, 1, 1, 1, 1, 1, 1, 1, 0, 0, 1, 0, 1, 0, 0, 1, 0, 1, 1, 1,\n",
       "        1, 1, 1, 0, 1, 1, 0, 1, 1, 0, 1, 0, 0, 0, 1, 1, 1, 0, 1, 1, 0, 1,\n",
       "        0, 1, 1, 1, 1, 0, 0, 0, 1, 1, 0, 1, 1, 0, 0, 0, 0, 0, 1, 0, 0, 1,\n",
       "        0, 1, 1, 1, 1, 0, 1, 1, 0, 1, 0, 0],\n",
       "       [0, 1, 0, 0, 1, 1, 1, 1, 1, 0, 1, 1, 1, 1, 1, 1, 0, 1, 0, 0, 1, 1,\n",
       "        1, 0, 0, 0, 0, 0, 1, 1, 0, 1, 1, 1, 1, 1, 0, 0, 0, 0, 0, 0, 0, 1,\n",
       "        1, 0, 0, 1, 1, 0, 1, 0, 1, 1, 0, 0, 1, 1, 0, 1, 1, 0, 0, 0, 0, 0,\n",
       "        1, 1, 0, 0, 0, 1, 1, 1, 1, 1, 1, 1, 0, 1, 0, 0, 0, 1, 1, 1, 0, 0,\n",
       "        1, 0, 0, 1, 1, 0, 1, 0, 1, 1, 0, 1],\n",
       "       [1, 1, 0, 1, 0, 1, 1, 1, 0, 1, 1, 1, 1, 0, 0, 0, 1, 1, 1, 1, 1, 0,\n",
       "        0, 1, 0, 0, 0, 1, 1, 1, 0, 0, 1, 1, 1, 1, 0, 0, 1, 0, 0, 0, 1, 1,\n",
       "        0, 1, 1, 0, 0, 0, 1, 1, 1, 0, 1, 1, 1, 1, 1, 0, 1, 1, 0, 1, 1, 1,\n",
       "        0, 1, 1, 0, 0, 0, 1, 1, 0, 0, 1, 1, 1, 0, 0, 0, 0, 0, 1, 1, 0, 1,\n",
       "        0, 1, 1, 0, 1, 1, 0, 1, 1, 1, 0, 1]])"
      ]
     },
     "execution_count": 11,
     "metadata": {},
     "output_type": "execute_result"
    }
   ],
   "source": [
    "def mutation(offspring):\n",
    "    for i in range(offspring.shape[0]):\n",
    "        j = np.random.randint(N)\n",
    "        offspring[i, j] ^= 1\n",
    "    return offspring\n",
    "\n",
    "offspring = mutation(offspring)\n",
    "offspring"
   ]
  },
  {
   "cell_type": "markdown",
   "id": "b7b9f577",
   "metadata": {},
   "source": [
    "### New Population"
   ]
  },
  {
   "cell_type": "code",
   "execution_count": 12,
   "id": "4fc7fa34",
   "metadata": {},
   "outputs": [],
   "source": [
    "pop[0:parents.shape[0], :] = parents\n",
    "pop[offspring.shape[0]:, :] = offspring"
   ]
  },
  {
   "cell_type": "markdown",
   "id": "77e3cf7e",
   "metadata": {},
   "source": [
    "### Loop MAX_GEN times"
   ]
  },
  {
   "cell_type": "code",
   "execution_count": 13,
   "id": "f5cd4103",
   "metadata": {
    "scrolled": true
   },
   "outputs": [
    {
     "name": "stdout",
     "output_type": "stream",
     "text": [
      "47453411645\n"
     ]
    }
   ],
   "source": [
    "pop = init()\n",
    "for _ in range(MAX_GEN):\n",
    "    fitness = calc_fit(weights, values, pop)\n",
    "    #print(fitness[np.where(fitness == np.max(fitness))[0][0]])\n",
    "    parents = selection(pop, fitness, MAX_MATING)\n",
    "    offspring = crossover(parents, n_offspring=(POP_SIZE-parents.shape[0], N))\n",
    "    offspring = mutation(offspring)\n",
    "    pop[0:parents.shape[0], :] = parents\n",
    "    pop[parents.shape[0]:, :] = offspring\n",
    "\n",
    "fitness = calc_fit(weights, values, pop)\n",
    "print(fitness[np.where(fitness == np.max(fitness))[0][0]])"
   ]
  },
  {
   "cell_type": "code",
   "execution_count": 14,
   "id": "b7a42116",
   "metadata": {},
   "outputs": [
    {
     "name": "stdout",
     "output_type": "stream",
     "text": [
      "48888532997\n",
      "\n"
     ]
    }
   ],
   "source": [
    "with open('out/'+filename) as f:\n",
    "    print(f.readline())"
   ]
  },
  {
   "cell_type": "code",
   "execution_count": null,
   "id": "073f3a11",
   "metadata": {},
   "outputs": [],
   "source": []
  }
 ],
 "metadata": {
  "kernelspec": {
   "display_name": "Python 3 (ipykernel)",
   "language": "python",
   "name": "python3"
  },
  "language_info": {
   "codemirror_mode": {
    "name": "ipython",
    "version": 3
   },
   "file_extension": ".py",
   "mimetype": "text/x-python",
   "name": "python",
   "nbconvert_exporter": "python",
   "pygments_lexer": "ipython3",
   "version": "3.9.7"
  }
 },
 "nbformat": 4,
 "nbformat_minor": 5
}
