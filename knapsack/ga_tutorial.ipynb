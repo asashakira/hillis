{
 "cells": [
  {
   "cell_type": "markdown",
   "id": "9fcba720",
   "metadata": {},
   "source": [
    "GA tutorial to find the weights (w1 ~ w6) that maximize Y in the following equation\n",
    "when x = [4, -2, 3.5, 5, -11, -4.7]\n",
    "Y = w1x1 + w2x2 + w3x3 + w4x4 + w5x5 + w6x6"
   ]
  },
  {
   "cell_type": "code",
   "execution_count": null,
   "id": "44c4261f",
   "metadata": {},
   "outputs": [],
   "source": []
  },
  {
   "cell_type": "code",
   "execution_count": 1,
   "id": "e4cbfd5f",
   "metadata": {},
   "outputs": [],
   "source": [
    "import numpy as np\n",
    "\n",
    "INF = 1001001001\n",
    "\n",
    "n_weights = 6\n",
    "inputs = [4, -2, 3.5, 5, -11, -4.7]\n",
    "\n",
    "\n",
    "sol_per_pop = 8\n",
    "pop_size = (sol_per_pop, n_weights)\n",
    "new_pop = np.random.uniform(low=-4.0, high=4.0, size=pop_size)\n",
    "\n",
    "MAX_GEN = 100\n",
    "MAX_MATING = 4"
   ]
  },
  {
   "cell_type": "markdown",
   "id": "0a42dd20",
   "metadata": {},
   "source": [
    "### Fitness Function"
   ]
  },
  {
   "cell_type": "code",
   "execution_count": 2,
   "id": "fe2e7f6c",
   "metadata": {},
   "outputs": [],
   "source": [
    "def calc_fit(inputs, pop):\n",
    "    return np.sum(pop*inputs, axis=1)"
   ]
  },
  {
   "cell_type": "code",
   "execution_count": 3,
   "id": "5e9c5de6",
   "metadata": {
    "scrolled": true
   },
   "outputs": [
    {
     "data": {
      "text/plain": [
       "array([ 44.14343344,  25.45223032,   7.15773284, -26.33489278,\n",
       "        45.86712931, -21.67094931, -39.13876946, -21.80315943])"
      ]
     },
     "execution_count": 3,
     "metadata": {},
     "output_type": "execute_result"
    }
   ],
   "source": [
    "fitness = calc_fit(inputs, new_pop)\n",
    "fitness"
   ]
  },
  {
   "cell_type": "markdown",
   "id": "feb1974c",
   "metadata": {},
   "source": [
    "### Selection"
   ]
  },
  {
   "cell_type": "code",
   "execution_count": 4,
   "id": "7ab3ec33",
   "metadata": {},
   "outputs": [],
   "source": [
    "def selection(pop, fitness, n_parents):\n",
    "    parents = np.empty((n_parents, pop.shape[1]))\n",
    "    for i in range(n_parents):\n",
    "        idx = np.where(fitness == np.max(fitness))[0][0]\n",
    "        parents[i, :] = pop[idx, :]\n",
    "        fitness[idx] = -INF\n",
    "    return parents"
   ]
  },
  {
   "cell_type": "code",
   "execution_count": 5,
   "id": "b7bb77b7",
   "metadata": {},
   "outputs": [
    {
     "data": {
      "text/plain": [
       "array([[ 3.78641359,  3.3635113 ,  3.84806283,  0.35547617, -1.98129152,\n",
       "        -0.08695534],\n",
       "       [ 3.71401853, -0.70095071, -3.01274194, -0.76202649, -3.228465  ,\n",
       "        -1.43129193],\n",
       "       [ 0.49269819,  3.68803113, -1.46336015,  2.74754289, -0.76294153,\n",
       "        -2.94663599],\n",
       "       [ 1.10341264, -1.4428801 ,  3.34410317, -2.90936536, -1.26990654,\n",
       "         2.397486  ]])"
      ]
     },
     "execution_count": 5,
     "metadata": {},
     "output_type": "execute_result"
    }
   ],
   "source": [
    "parents = selection(new_pop, fitness, MAX_MATING)\n",
    "parents"
   ]
  },
  {
   "cell_type": "markdown",
   "id": "8f7d6ba9",
   "metadata": {},
   "source": [
    "### Crossover"
   ]
  },
  {
   "cell_type": "code",
   "execution_count": 6,
   "id": "339b6430",
   "metadata": {},
   "outputs": [],
   "source": [
    "def crossover(parents, offspring_size):\n",
    "    offspring = np.empty(offspring_size)\n",
    "    crossover_point = np.uint8(offspring_size[1]/2)\n",
    "    for k in range(offspring_size[0]):\n",
    "        par1_idx = k % parents.shape[0]\n",
    "        par2_idx = (k+1) % parents.shape[0]\n",
    "        offspring[k, 0:crossover_point] = parents[par1_idx, 0:crossover_point]\n",
    "        offspring[k, crossover_point:] = parents[par2_idx, crossover_point:]\n",
    "    return offspring"
   ]
  },
  {
   "cell_type": "code",
   "execution_count": 7,
   "id": "3fc7cd96",
   "metadata": {},
   "outputs": [
    {
     "data": {
      "text/plain": [
       "array([[ 3.78641359,  3.3635113 ,  3.84806283, -0.76202649, -3.228465  ,\n",
       "        -1.43129193],\n",
       "       [ 3.71401853, -0.70095071, -3.01274194,  2.74754289, -0.76294153,\n",
       "        -2.94663599],\n",
       "       [ 0.49269819,  3.68803113, -1.46336015, -2.90936536, -1.26990654,\n",
       "         2.397486  ],\n",
       "       [ 1.10341264, -1.4428801 ,  3.34410317,  0.35547617, -1.98129152,\n",
       "        -0.08695534]])"
      ]
     },
     "execution_count": 7,
     "metadata": {},
     "output_type": "execute_result"
    }
   ],
   "source": [
    "offspring_crossover = crossover(parents, offspring_size=(pop_size[0]-parents.shape[0], n_weights))\n",
    "offspring_crossover"
   ]
  },
  {
   "cell_type": "markdown",
   "id": "04e57b1a",
   "metadata": {},
   "source": [
    "### Mutation"
   ]
  },
  {
   "cell_type": "code",
   "execution_count": 8,
   "id": "bf741df6",
   "metadata": {},
   "outputs": [],
   "source": [
    "def mutation(offspring):\n",
    "    for i in range(offspring.shape[0]):\n",
    "        r = np.random.uniform(-1.0, 1.0, 1)\n",
    "        offspring[i, 4] = offspring[i, 4] + r\n",
    "    return offspring"
   ]
  },
  {
   "cell_type": "code",
   "execution_count": 9,
   "id": "73296bc5",
   "metadata": {},
   "outputs": [
    {
     "data": {
      "text/plain": [
       "array([[ 3.78641359,  3.3635113 ,  3.84806283, -0.76202649, -3.43732291,\n",
       "        -1.43129193],\n",
       "       [ 3.71401853, -0.70095071, -3.01274194,  2.74754289, -0.66051011,\n",
       "        -2.94663599],\n",
       "       [ 0.49269819,  3.68803113, -1.46336015, -2.90936536, -1.02928686,\n",
       "         2.397486  ],\n",
       "       [ 1.10341264, -1.4428801 ,  3.34410317,  0.35547617, -2.50962999,\n",
       "        -0.08695534]])"
      ]
     },
     "execution_count": 9,
     "metadata": {},
     "output_type": "execute_result"
    }
   ],
   "source": [
    "offspring_mutation = mutation(offspring_crossover)\n",
    "offspring_mutation"
   ]
  },
  {
   "cell_type": "markdown",
   "id": "604f7f85",
   "metadata": {},
   "source": [
    "### New Population"
   ]
  },
  {
   "cell_type": "code",
   "execution_count": 10,
   "id": "cd160f82",
   "metadata": {},
   "outputs": [],
   "source": [
    "new_pop[0:parents.shape[0], :] = parents\n",
    "new_pop[parents.shape[0]:, :] = offspring_mutation"
   ]
  },
  {
   "cell_type": "code",
   "execution_count": 11,
   "id": "13dedc0f",
   "metadata": {},
   "outputs": [
    {
     "data": {
      "text/plain": [
       "array([[ 3.78641359,  3.3635113 ,  3.84806283,  0.35547617, -1.98129152,\n",
       "        -0.08695534],\n",
       "       [ 3.71401853, -0.70095071, -3.01274194, -0.76202649, -3.228465  ,\n",
       "        -1.43129193],\n",
       "       [ 0.49269819,  3.68803113, -1.46336015,  2.74754289, -0.76294153,\n",
       "        -2.94663599],\n",
       "       [ 1.10341264, -1.4428801 ,  3.34410317, -2.90936536, -1.26990654,\n",
       "         2.397486  ],\n",
       "       [ 3.78641359,  3.3635113 ,  3.84806283, -0.76202649, -3.43732291,\n",
       "        -1.43129193],\n",
       "       [ 3.71401853, -0.70095071, -3.01274194,  2.74754289, -0.66051011,\n",
       "        -2.94663599],\n",
       "       [ 0.49269819,  3.68803113, -1.46336015, -2.90936536, -1.02928686,\n",
       "         2.397486  ],\n",
       "       [ 1.10341264, -1.4428801 ,  3.34410317,  0.35547617, -2.50962999,\n",
       "        -0.08695534]])"
      ]
     },
     "execution_count": 11,
     "metadata": {},
     "output_type": "execute_result"
    }
   ],
   "source": [
    "new_pop"
   ]
  },
  {
   "cell_type": "code",
   "execution_count": null,
   "id": "73028d08",
   "metadata": {},
   "outputs": [],
   "source": []
  },
  {
   "cell_type": "code",
   "execution_count": 13,
   "id": "318b7094",
   "metadata": {
    "scrolled": true
   },
   "outputs": [
    {
     "name": "stdout",
     "output_type": "stream",
     "text": [
      "494.5459308737538\n",
      "496.46745966013634\n",
      "501.0373188546525\n",
      "501.0373188546525\n",
      "507.0511710581839\n",
      "510.36160593036726\n",
      "517.3731880872435\n",
      "523.846573354673\n",
      "523.846573354673\n",
      "527.4861782690018\n",
      "527.4861782690018\n",
      "533.5829759656891\n",
      "539.5352093640463\n",
      "539.5352093640463\n",
      "547.2105491799219\n",
      "553.2709327786099\n",
      "563.8580966448692\n",
      "563.8580966448692\n",
      "572.6515145484096\n",
      "579.8528985655975\n",
      "583.1097129636437\n",
      "583.1097129636437\n",
      "583.1097129636437\n",
      "589.697155106318\n",
      "589.697155106318\n",
      "599.9854541018017\n",
      "599.9854541018017\n",
      "607.1657096079052\n",
      "612.1598369632609\n",
      "613.4199268382928\n",
      "622.5878222126823\n",
      "622.5878222126823\n",
      "629.4222013124912\n",
      "636.6978113027328\n",
      "639.4736693727924\n",
      "648.7091291975622\n",
      "648.7091291975622\n",
      "658.2692771938632\n",
      "665.0798687290238\n",
      "673.3982098745203\n",
      "675.6000024831046\n",
      "675.6000024831046\n",
      "675.6000024831046\n",
      "681.6493117866597\n",
      "684.8042899960618\n",
      "685.8914008714094\n",
      "688.0557717779824\n",
      "694.1051538863308\n",
      "694.1051538863308\n",
      "698.1880399844521\n",
      "698.1880399844521\n",
      "706.7962982261146\n",
      "706.7962982261146\n",
      "708.5797233726748\n",
      "708.5797233726748\n",
      "713.1606973266322\n",
      "715.5029157241445\n",
      "715.6734516168623\n",
      "719.6694994824688\n",
      "726.0734637502743\n",
      "734.0804629252566\n",
      "734.0804629252566\n",
      "739.4579024611253\n",
      "745.1302217480132\n",
      "748.8130194871351\n",
      "758.6996434955903\n",
      "759.6176206252097\n",
      "764.1460227394795\n",
      "765.6007237321412\n",
      "765.6007237321412\n",
      "770.1116489318888\n",
      "778.8465823999305\n",
      "785.8632123043108\n",
      "788.7347385651051\n",
      "788.7347385651051\n",
      "795.0176656193327\n",
      "797.8761812783356\n",
      "799.6369480317768\n",
      "799.6369480317768\n",
      "803.6963382464925\n",
      "803.9953154292269\n",
      "813.0162423430638\n",
      "817.180087328165\n",
      "817.180087328165\n",
      "817.180087328165\n",
      "819.2072620701549\n",
      "821.2394349859596\n",
      "821.3042198971634\n",
      "824.4271041994646\n",
      "831.862004574315\n",
      "841.8720345156976\n",
      "841.8720345156976\n",
      "848.5392326429746\n",
      "848.5392326429746\n",
      "848.5392326429746\n",
      "856.657260018523\n",
      "857.3630005731019\n",
      "859.3468884880232\n",
      "862.8549544654255\n",
      "866.6346627056183\n"
     ]
    }
   ],
   "source": [
    "for _ in range(MAX_GEN):\n",
    "    fitness = calc_fit(inputs, new_pop)\n",
    "    parents = selection(new_pop, fitness, MAX_MATING)\n",
    "    offspring_crossover = crossover(parents, offspring_size=(pop_size[0]-parents.shape[0], n_weights))\n",
    "    offspring_mutation = mutation(offspring_crossover)\n",
    "    new_pop[0:parents.shape[0], :] = parents\n",
    "    new_pop[parents.shape[0]:, :] = offspring_mutation\n",
    "    \n",
    "    fitness = calc_fit(inputs, new_pop)\n",
    "    print(fitness[np.where(fitness == np.max(fitness))[0][0]])"
   ]
  }
 ],
 "metadata": {
  "kernelspec": {
   "display_name": "Python 3 (ipykernel)",
   "language": "python",
   "name": "python3"
  },
  "language_info": {
   "codemirror_mode": {
    "name": "ipython",
    "version": 3
   },
   "file_extension": ".py",
   "mimetype": "text/x-python",
   "name": "python",
   "nbconvert_exporter": "python",
   "pygments_lexer": "ipython3",
   "version": "3.9.7"
  }
 },
 "nbformat": 4,
 "nbformat_minor": 5
}
